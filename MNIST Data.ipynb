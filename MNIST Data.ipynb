{
 "cells": [
  {
   "cell_type": "code",
   "execution_count": 1,
   "metadata": {},
   "outputs": [
    {
     "name": "stderr",
     "output_type": "stream",
     "text": [
      "/usr/local/lib/python2.7/dist-packages/h5py/__init__.py:36: FutureWarning: Conversion of the second argument of issubdtype from `float` to `np.floating` is deprecated. In future, it will be treated as `np.float64 == np.dtype(float).type`.\n",
      "  from ._conv import register_converters as _register_converters\n",
      "Using TensorFlow backend.\n"
     ]
    }
   ],
   "source": [
    "import os\n",
    "import pandas as pd\n",
    "import numpy as np\n",
    "import PIL\n",
    "import matplotlib\n",
    "import matplotlib.pyplot as plt\n",
    "%matplotlib inline\n",
    "from keras.models import load_model,save_model\n",
    "from keras.callbacks import ModelCheckpoint\n",
    "from matplotlib.patches import Rectangle\n",
    "import os\n",
    "from scipy.misc import imsave\n",
    "import math\n",
    "\n",
    "import keras\n",
    "\n",
    "from keras.callbacks import ReduceLROnPlateau\n",
    "from keras.preprocessing.image import ImageDataGenerator, array_to_img, img_to_array, load_img\n",
    "from keras.preprocessing import image\n",
    "from keras.applications import xception\n",
    "from keras.models import Sequential, Model\n",
    "from keras.layers import Conv2D, MaxPooling2D, Input, Lambda\n",
    "from keras.layers import Activation, Dropout, Flatten, Dense\n",
    "from keras.layers import BatchNormalization\n",
    "from keras.datasets import mnist\n",
    "from math import sqrt\n",
    "from keras.callbacks import History \n",
    "import gc\n",
    "from numpy.random import randint, choice\n",
    "import numpy.random as rng\n",
    "\n",
    "import pickle\n",
    "\n",
    "import keras.backend as K"
   ]
  },
  {
   "cell_type": "markdown",
   "metadata": {},
   "source": [
    "### Reading Data"
   ]
  },
  {
   "cell_type": "code",
   "execution_count": 2,
   "metadata": {},
   "outputs": [],
   "source": [
    "##Reading Data\n",
    "\n",
    "(X_train, y_train), (X_test, y_test) = mnist.load_data()"
   ]
  },
  {
   "cell_type": "code",
   "execution_count": 3,
   "metadata": {},
   "outputs": [],
   "source": [
    "## Creating Data Map\n",
    "\n",
    "dataMap = {}\n",
    "for i in range(10):\n",
    "    dataMap[i]=[]\n",
    "    \n",
    "for i in range(60000):\n",
    "    \n",
    "    dataMap[y_train[i]].append((X_train[i].reshape(28,28,1)))\n",
    "    "
   ]
  },
  {
   "cell_type": "code",
   "execution_count": 4,
   "metadata": {},
   "outputs": [],
   "source": [
    "## Creating Test Data Map\n",
    "\n",
    "testDataMap = {}\n",
    "for i in range(10):\n",
    "    testDataMap[i]=[]\n",
    "    \n",
    "for i in range(10000):\n",
    "    \n",
    "    testDataMap[y_test[i]].append(X_test[i].reshape(28,28,1))\n",
    "    "
   ]
  },
  {
   "cell_type": "code",
   "execution_count": 5,
   "metadata": {},
   "outputs": [
    {
     "data": {
      "text/plain": [
       "<matplotlib.image.AxesImage at 0x7f2e6ee76110>"
      ]
     },
     "execution_count": 5,
     "metadata": {},
     "output_type": "execute_result"
    },
    {
     "data": {
      "image/png": "[encoded data removed]",
      "text/plain": [
       "<Figure size 1440x3600 with 4 Axes>"
      ]
     },
     "metadata": {},
     "output_type": "display_data"
    }
   ],
   "source": [
    "plt.figure(figsize=(20,50))\n",
    "plt.subplot(141)\n",
    "plt.imshow(X_train[0])\n",
    "\n",
    "plt.subplot(142)\n",
    "plt.imshow(X_train[1])\n",
    "\n",
    "plt.subplot(143)\n",
    "plt.imshow(X_train[2])\n",
    "\n",
    "plt.subplot(144)\n",
    "plt.imshow(X_train[3])"
   ]
  },
  {
   "cell_type": "code",
   "execution_count": 7,
   "metadata": {},
   "outputs": [],
   "source": [
    "input_dim = (28,28,1)"
   ]
  },
  {
   "cell_type": "markdown",
   "metadata": {},
   "source": [
    "### Generator Class"
   ]
  },
  {
   "cell_type": "code",
   "execution_count": 8,
   "metadata": {},
   "outputs": [],
   "source": [
    "class Generator(keras.utils.Sequence):\n",
    "    \n",
    "    def __init__(self,numImages,dataMap):\n",
    "        \n",
    "        self.numImages = numImages\n",
    "        self.dataMap = dataMap\n",
    "        \n",
    "        \n",
    "    def __len__(self):\n",
    "        \n",
    "        return 30\n",
    "    \n",
    "    def __getitem__(self,index):\n",
    "        \n",
    "        pairs, targets = self.getBatch(batch_size,posRatio=0.5, shuffleSubjects=True)\n",
    "        \n",
    "        return pairs, targets\n",
    "        \n",
    "\n",
    "     \n",
    "        \n",
    "\n",
    "    def getBatch(self,batchSize, posRatio = 0.5, shuffleSubjects = True):\n",
    "    \n",
    "        \n",
    "        posSamples = int(batchSize*posRatio)\n",
    "        negSamples = batchSize - posSamples\n",
    "        \n",
    "\n",
    "        #positiveSamples \n",
    "        posPairList = []\n",
    "            \n",
    "        imgClass = choice(10)  #Select class out of 10 possible classes\n",
    "\n",
    "        for i in range(posSamples):\n",
    "            \n",
    "            if shuffleSubjects==True:\n",
    "                imgClass = choice(10)\n",
    "\n",
    "            imgChoice = choice(self.numImages, 2, replace = False)\n",
    "\n",
    "            img1 = self.dataMap[imgClass][imgChoice[0]]\n",
    "            img2 = self.dataMap[imgClass][imgChoice[1]]\n",
    "\n",
    "            posPairList.append(((img1,img2),1))\n",
    "                \n",
    "\n",
    "        #negativeSamples\n",
    "        negPairList = []\n",
    "\n",
    "        if shuffleSubjects==True:\n",
    "            \n",
    "            for i in range(negSamples):\n",
    "                #Selecting the classes for the negative pair\n",
    "                imgClasses = list(choice(10, 2,replace=False))\n",
    "                \n",
    "                #Selecting the specific image from each image class\n",
    "                img1Choice = choice(self.numImages, 1, replace = False)\n",
    "                img2Choice = choice(self.numImages, 1, replace = False)\n",
    "                \n",
    "                img1 = self.dataMap[imgClasses[0]][img1Choice[0]]\n",
    "                img2 = self.dataMap[imgClasses[1]][img2Choice[0]]\n",
    "                \n",
    "                negPairList.append(((img1,img2),0))\n",
    "\n",
    "        pairList = posPairList + negPairList\n",
    "    \n",
    "\n",
    "        inputAimgs = np.array([x[0][0] for x in pairList])\n",
    "        inputBimgs = np.array([x[0][1] for x in pairList])\n",
    "        target = np.array([x[1] for x in pairList])        \n",
    "\n",
    "        return( [inputAimgs,inputBimgs], target)\n",
    "    \n",
    "    def on_epoch_end(self):\n",
    "        'Updates to be done after each epoch'\n",
    "        a = 5\n",
    "        \n",
    "        \n",
    "    def generate(self, batch_size, s=\"train\"):\n",
    "        \"\"\"a generator for batches, so model.fit_generator can be used. \"\"\"\n",
    "        while True:\n",
    "            pairs, targets = self.getBatch(batch_size,posRatio=0.5, shuffleSubjects=True)\n",
    "            yield (pairs, targets) \n",
    "    \n",
    "    \n"
   ]
  },
  {
   "cell_type": "markdown",
   "metadata": {},
   "source": [
    "### Helper Functions"
   ]
  },
  {
   "cell_type": "code",
   "execution_count": 32,
   "metadata": {},
   "outputs": [],
   "source": [
    "def euclidean_distance(vects):\n",
    "    x, y = vects\n",
    "    return K.sqrt(K.sum(K.square(x - y), axis=1, keepdims=True))\n",
    "\n",
    "\n",
    "def eucl_dist_output_shape(shapes):\n",
    "    shape1, shape2 = shapes\n",
    "    return (shape1[0], 1)\n",
    "\n",
    "\n",
    "def contrastive_loss(y_true, y_pred):\n",
    "    '''Contrastive loss from Hadsell-et-al.'06\n",
    "    http://yann.lecun.com/exdb/publis/pdf/hadsell-chopra-lecun-06.pdf\n",
    "    '''\n",
    "    margin = 5\n",
    "    return K.mean(y_true * K.square(y_pred) + (1 - y_true) * K.square(K.maximum(margin - y_pred, 0)))\n",
    "\n",
    "def compute_accuracy(predictions, labels):\n",
    "    '''Compute classification accuracy with a fixed threshold on distances.\n",
    "    '''\n",
    "    return labels[predictions.ravel() < 0.5].mean()\n",
    "\n",
    "def W_init(shape,name=None):\n",
    "    \"\"\"Initialize weights as in paper\"\"\"\n",
    "    values = rng.normal(loc=0,scale=1e-2,size=shape)\n",
    "    return K.variable(values,name=name)\n",
    "#//TODO: figure out how to initialize layer biases in keras.\n",
    "\n",
    "def b_init(shape,name=None):\n",
    "    \"\"\"Initialize bias as in paper\"\"\"\n",
    "    values=rng.normal(loc=0.5,scale=1e-2,size=shape)\n",
    "    return K.variable(values,name=name)"
   ]
  },
  {
   "cell_type": "code",
   "execution_count": null,
   "metadata": {},
   "outputs": [],
   "source": []
  },
  {
   "cell_type": "markdown",
   "metadata": {},
   "source": [
    "### Modeling"
   ]
  },
  {
   "cell_type": "markdown",
   "metadata": {},
   "source": [
    "#### Model 1"
   ]
  },
  {
   "cell_type": "code",
   "execution_count": 10,
   "metadata": {},
   "outputs": [],
   "source": [
    "baseModel = Sequential()\n",
    "baseModel.add(BatchNormalization(input_shape = input_dim))\n",
    "baseModel.add(Conv2D(64, (3,3),activation='relu', data_format='channels_last',kernel_initializer=W_init,strides=(2,2)))\n",
    "baseModel.add(MaxPooling2D())\n",
    "\n",
    "baseModel.add(Dropout(0.3))\n",
    "baseModel.add(Conv2D(128, (3,3),activation='relu',kernel_initializer=W_init, bias_initializer=b_init, strides=(1,1)))\n",
    "baseModel.add(Dropout(0.3))\n",
    "baseModel.add(Conv2D(256, (3,3),activation='relu',kernel_initializer=W_init, bias_initializer=b_init))\n",
    "baseModel.add(Flatten())\n",
    "baseModel.add(Dense(1028, activation='relu'))\n",
    "# baseModel.add(Dense(32, activation='relu'))\n",
    "\n",
    "\n",
    "inputA = Input(shape = input_dim)\n",
    "inputB = Input(shape = input_dim)\n",
    "\n",
    "outputA = baseModel(inputA)\n",
    "outputB = baseModel(inputB)\n"
   ]
  },
  {
   "cell_type": "code",
   "execution_count": 11,
   "metadata": {},
   "outputs": [
    {
     "name": "stdout",
     "output_type": "stream",
     "text": [
      "_________________________________________________________________\n",
      "Layer (type)                 Output Shape              Param #   \n",
      "=================================================================\n",
      "batch_normalization_1 (Batch (None, 28, 28, 1)         4         \n",
      "_________________________________________________________________\n",
      "conv2d_1 (Conv2D)            (None, 13, 13, 64)        640       \n",
      "_________________________________________________________________\n",
      "max_pooling2d_1 (MaxPooling2 (None, 6, 6, 64)          0         \n",
      "_________________________________________________________________\n",
      "dropout_1 (Dropout)          (None, 6, 6, 64)          0         \n",
      "_________________________________________________________________\n",
      "conv2d_2 (Conv2D)            (None, 4, 4, 128)         73856     \n",
      "_________________________________________________________________\n",
      "dropout_2 (Dropout)          (None, 4, 4, 128)         0         \n",
      "_________________________________________________________________\n",
      "conv2d_3 (Conv2D)            (None, 2, 2, 256)         295168    \n",
      "_________________________________________________________________\n",
      "flatten_1 (Flatten)          (None, 1024)              0         \n",
      "_________________________________________________________________\n",
      "dense_1 (Dense)              (None, 1028)              1053700   \n",
      "=================================================================\n",
      "Total params: 1,423,368\n",
      "Trainable params: 1,423,366\n",
      "Non-trainable params: 2\n",
      "_________________________________________________________________\n"
     ]
    }
   ],
   "source": [
    "baseModel.summary()"
   ]
  },
  {
   "cell_type": "code",
   "execution_count": 14,
   "metadata": {},
   "outputs": [
    {
     "name": "stderr",
     "output_type": "stream",
     "text": [
      "/home/rsk/.local/lib/python2.7/site-packages/ipykernel_launcher.py:6: UserWarning: Update your `Model` call to the Keras 2 API: `Model(outputs=Tensor(\"la..., inputs=[<tf.Tenso...)`\n",
      "  \n"
     ]
    }
   ],
   "source": [
    "distance = Lambda(euclidean_distance, output_shape=eucl_dist_output_shape)([outputA,outputB])\n",
    "\n",
    "lr_reduce = ReduceLROnPlateau(monitor='val_loss', factor=0.1, epsilon=1e-5, patience=3, verbose=1)\n",
    "\n",
    "\n",
    "model = Model(input=[inputA, inputB], output=distance)\n",
    "\n",
    "model.compile(loss=contrastive_loss,optimizer='adadelta')\n"
   ]
  },
  {
   "cell_type": "code",
   "execution_count": 15,
   "metadata": {},
   "outputs": [],
   "source": [
    "gen = Generator(5,dataMap)\n",
    "val_gen  = Generator(15,testDataMap)"
   ]
  },
  {
   "cell_type": "code",
   "execution_count": 16,
   "metadata": {},
   "outputs": [
    {
     "name": "stdout",
     "output_type": "stream",
     "text": [
      "Epoch 1/15\n",
      "250/250 [==============================] - 14s 54ms/step - loss: 0.2030 - val_loss: 0.1927\n",
      "Epoch 2/15\n",
      "250/250 [==============================] - 4s 14ms/step - loss: 0.0497 - val_loss: 0.1992\n",
      "Epoch 3/15\n",
      "250/250 [==============================] - 4s 15ms/step - loss: 0.0354 - val_loss: 0.1849\n",
      "Epoch 4/15\n",
      "250/250 [==============================] - 4s 16ms/step - loss: 0.0290 - val_loss: 0.1721\n",
      "Epoch 5/15\n",
      "250/250 [==============================] - 4s 15ms/step - loss: 0.0244 - val_loss: 0.1736\n",
      "Epoch 6/15\n",
      "250/250 [==============================] - 4s 15ms/step - loss: 0.0221 - val_loss: 0.1753\n",
      "Epoch 7/15\n",
      "250/250 [==============================] - 4s 15ms/step - loss: 0.0201 - val_loss: 0.1735\n",
      "Epoch 8/15\n",
      "250/250 [==============================] - 4s 16ms/step - loss: 0.0188 - val_loss: 0.1826\n",
      "\n",
      "Epoch 00008: ReduceLROnPlateau reducing learning rate to 0.1.\n",
      "Epoch 9/15\n",
      "250/250 [==============================] - 4s 16ms/step - loss: 0.0148 - val_loss: 0.1706\n",
      "Epoch 10/15\n",
      "250/250 [==============================] - 4s 16ms/step - loss: 0.0137 - val_loss: 0.1786\n",
      "Epoch 11/15\n",
      "250/250 [==============================] - 4s 15ms/step - loss: 0.0139 - val_loss: 0.1706\n",
      "Epoch 12/15\n",
      "250/250 [==============================] - 4s 16ms/step - loss: 0.0131 - val_loss: 0.1686\n",
      "Epoch 13/15\n",
      "250/250 [==============================] - 4s 14ms/step - loss: 0.0131 - val_loss: 0.1746\n",
      "Epoch 14/15\n",
      "250/250 [==============================] - 4s 15ms/step - loss: 0.0131 - val_loss: 0.1746\n",
      "Epoch 15/15\n",
      "250/250 [==============================] - 4s 16ms/step - loss: 0.0127 - val_loss: 0.1653\n"
     ]
    },
    {
     "data": {
      "text/plain": [
       "<keras.callbacks.History at 0x7f2e6b998c90>"
      ]
     },
     "execution_count": 16,
     "metadata": {},
     "output_type": "execute_result"
    }
   ],
   "source": [
    "model.fit_generator(gen.generate(30),epochs=15,steps_per_epoch = 250,validation_data=val_gen.generate(30),validation_steps=50,callbacks = [lr_reduce])"
   ]
  },
  {
   "cell_type": "markdown",
   "metadata": {},
   "source": [
    "#### Model 2"
   ]
  },
  {
   "cell_type": "code",
   "execution_count": 39,
   "metadata": {},
   "outputs": [],
   "source": [
    "baseModel = Sequential()\n",
    "\n",
    "baseModel.add(Conv2D(64, (3,3),activation='relu', data_format='channels_last',kernel_initializer=W_init,strides=(1,1),input_shape = input_dim))\n",
    "# baseModel.add(BatchNormalization(axis=3))\n",
    "baseModel.add(Conv2D(64, (3,3),activation='relu', data_format='channels_last',kernel_initializer=W_init,strides=(1,1) ))\n",
    "# baseModel.add(BatchNormalization(axis=3))\n",
    "baseModel.add(MaxPooling2D(pool_size=(2,2)))\n",
    "baseModel.add(Dropout(0.3))\n",
    "\n",
    "baseModel.add(Conv2D(128, (3,3),activation='relu', data_format='channels_last',kernel_initializer=W_init,strides=(1,1)))\n",
    "# baseModel.add(BatchNormalization(axis=3))\n",
    "baseModel.add(Dropout(0.3))\n",
    "baseModel.add(Conv2D(256, (3,3),activation='relu', data_format='channels_last',kernel_initializer=W_init,strides=(1,1) ))\n",
    "# baseModel.add(BatchNormalization(axis=3))\n",
    "baseModel.add(Conv2D(256, (3,3),activation='relu', data_format='channels_last',kernel_initializer=W_init,strides=(1,1) ))\n",
    "# baseModel.add(BatchNormalization(axis=3))\n",
    "baseModel.add(MaxPooling2D(pool_size=(2,2)))\n",
    "\n",
    "\n",
    "baseModel.add(Dropout(0.3))\n",
    "baseModel.add(Flatten())\n",
    "baseModel.add(Dense(256, activation='relu'))\n",
    "\n",
    "inputA = Input(shape = input_dim)\n",
    "inputB = Input(shape = input_dim)\n",
    "\n",
    "outputA = baseModel(inputA)\n",
    "outputB = baseModel(inputB)\n"
   ]
  },
  {
   "cell_type": "code",
   "execution_count": 40,
   "metadata": {},
   "outputs": [
    {
     "name": "stdout",
     "output_type": "stream",
     "text": [
      "_________________________________________________________________\n",
      "Layer (type)                 Output Shape              Param #   \n",
      "=================================================================\n",
      "conv2d_14 (Conv2D)           (None, 26, 26, 64)        640       \n",
      "_________________________________________________________________\n",
      "conv2d_15 (Conv2D)           (None, 24, 24, 64)        36928     \n",
      "_________________________________________________________________\n",
      "max_pooling2d_6 (MaxPooling2 (None, 12, 12, 64)        0         \n",
      "_________________________________________________________________\n",
      "dropout_9 (Dropout)          (None, 12, 12, 64)        0         \n",
      "_________________________________________________________________\n",
      "conv2d_16 (Conv2D)           (None, 10, 10, 128)       73856     \n",
      "_________________________________________________________________\n",
      "dropout_10 (Dropout)         (None, 10, 10, 128)       0         \n",
      "_________________________________________________________________\n",
      "conv2d_17 (Conv2D)           (None, 8, 8, 256)         295168    \n",
      "_________________________________________________________________\n",
      "conv2d_18 (Conv2D)           (None, 6, 6, 256)         590080    \n",
      "_________________________________________________________________\n",
      "max_pooling2d_7 (MaxPooling2 (None, 3, 3, 256)         0         \n",
      "_________________________________________________________________\n",
      "dropout_11 (Dropout)         (None, 3, 3, 256)         0         \n",
      "_________________________________________________________________\n",
      "flatten_4 (Flatten)          (None, 2304)              0         \n",
      "_________________________________________________________________\n",
      "dense_4 (Dense)              (None, 256)               590080    \n",
      "=================================================================\n",
      "Total params: 1,586,752\n",
      "Trainable params: 1,586,752\n",
      "Non-trainable params: 0\n",
      "_________________________________________________________________\n"
     ]
    }
   ],
   "source": [
    "baseModel.summary()"
   ]
  },
  {
   "cell_type": "code",
   "execution_count": 41,
   "metadata": {},
   "outputs": [
    {
     "name": "stderr",
     "output_type": "stream",
     "text": [
      "/home/rsk/.local/lib/python2.7/site-packages/ipykernel_launcher.py:6: UserWarning: Update your `Model` call to the Keras 2 API: `Model(outputs=Tensor(\"la..., inputs=[<tf.Tenso...)`\n",
      "  \n"
     ]
    }
   ],
   "source": [
    "distance = Lambda(euclidean_distance, output_shape=eucl_dist_output_shape)([outputA,outputB])\n",
    "\n",
    "lr_reduce = ReduceLROnPlateau(monitor='val_loss', factor=0.1, epsilon=1e-5, patience=3, verbose=1)\n",
    "\n",
    "\n",
    "model = Model(input=[inputA, inputB], output=distance)\n",
    "\n",
    "model.compile(loss=contrastive_loss,optimizer='adadelta')\n"
   ]
  },
  {
   "cell_type": "code",
   "execution_count": 42,
   "metadata": {},
   "outputs": [],
   "source": [
    "gen = Generator(10,dataMap)\n",
    "val_gen  = Generator(30,testDataMap)"
   ]
  },
  {
   "cell_type": "code",
   "execution_count": 45,
   "metadata": {},
   "outputs": [
    {
     "name": "stdout",
     "output_type": "stream",
     "text": [
      "Epoch 1/3\n",
      "250/250 [==============================] - 15s 59ms/step - loss: 0.0164 - val_loss: 2.5524\n",
      "Epoch 2/3\n",
      "250/250 [==============================] - 15s 58ms/step - loss: 0.0156 - val_loss: 2.5828\n",
      "Epoch 3/3\n",
      "250/250 [==============================] - 15s 58ms/step - loss: 0.0154 - val_loss: 2.5235\n"
     ]
    },
    {
     "data": {
      "text/plain": [
       "<keras.callbacks.History at 0x7f2de24878d0>"
      ]
     },
     "execution_count": 45,
     "metadata": {},
     "output_type": "execute_result"
    }
   ],
   "source": [
    "model.fit_generator(gen.generate(40),epochs=3,steps_per_epoch = 250,validation_data=val_gen.generate(30),validation_steps=50,callbacks = [lr_reduce])"
   ]
  },
  {
   "cell_type": "markdown",
   "metadata": {},
   "source": [
    "### Testing"
   ]
  },
  {
   "cell_type": "code",
   "execution_count": 17,
   "metadata": {},
   "outputs": [],
   "source": [
    "def getSupportImgs(numImages,numClasses=10):\n",
    "    \"\"\"\n",
    "    Returns images from training data that would be used as supporting images during the prediction task\n",
    "    \n",
    "    numImages : Number of images to be used for testing against each class\n",
    "    \n",
    "    \"\"\"\n",
    "    \n",
    "    supportImg = {}\n",
    "    \n",
    "    for imgClass in range(numClasses):\n",
    "        \n",
    "        supportImg[imgClass]=[]\n",
    "        \n",
    "        imgChoices = choice(len(dataMap[imgClass]), numImages, replace=False)\n",
    "        \n",
    "        for i in range(numImages):\n",
    "            img = dataMap[imgClass][imgChoices[i]]\n",
    "            supportImg[imgClass].append(img)\n",
    "                        \n",
    "    return supportImg\n",
    "\n",
    "\n",
    "def testImg(img,imgSupport,model,printPredList = False):\n",
    "    \"\"\"\n",
    "    Tests an individual image against the support images from each class and returns the class with lowest average\n",
    "    score\n",
    "    \"\"\"\n",
    "    \n",
    "    bestScore = 10.0\n",
    "    bestLabel = ''\n",
    "    bestImg = 0.0\n",
    "    predList = []\n",
    "    \n",
    "    \n",
    "    for imgClass in list(imgSupport.keys()):\n",
    "        trainImgs = imgSupport[imgClass]\n",
    "        \n",
    "        scores = []\n",
    "        \n",
    "        for i in range(len(trainImgs)):\n",
    "            pred = model.predict([img.reshape(1,28,28,1), trainImgs[i].reshape(1,28,28,1) ])\n",
    "            scores.append(pred[0])\n",
    "        \n",
    "        avgScore = np.sum(scores)/float(len(trainImgs))\n",
    "        predList.append([imgClass, avgScore])\n",
    "        \n",
    "        if avgScore < bestScore:\n",
    "            bestScore = avgScore\n",
    "            bestLabel = imgClass\n",
    "    \n",
    "    if printPredList == True:\n",
    "        for i in range(len(predList)):\n",
    "            print(\"Class {} : {}\".format(predList[i][0] , predList[i][1]))\n",
    "    \n",
    "    return(bestLabel, bestScore)\n",
    "            "
   ]
  },
  {
   "cell_type": "code",
   "execution_count": 18,
   "metadata": {},
   "outputs": [],
   "source": [
    "def testClass(imgClass, model, numTestImages=100, supportImgCount=1,verbose = True):\n",
    "    \"\"\"\n",
    "    Tests numTestImages number of images from the test data for the imgClass class of images and reports the accuracy\n",
    "    \n",
    "    \"\"\"\n",
    "    \n",
    "    supportImg = getSupportImgs(1)\n",
    "    \n",
    "    imgChoices = list(choice(len(testDataMap[imgClass]) , numTestImages, replace = False ))\n",
    "    \n",
    "    preds = []\n",
    "    \n",
    "    for imgNo in imgChoices:\n",
    "        img = testDataMap[imgClass][imgNo]\n",
    "        bestLabel = testImg(img, supportImg, model)[0]\n",
    "        \n",
    "        if verbose:\n",
    "            print(\"Img # : {} Predicted Label : {}\".format(imgNo, bestLabel))\n",
    "        \n",
    "        if bestLabel == imgClass:\n",
    "            preds.append(1.0)\n",
    "        else:\n",
    "            preds.append(0.0)\n",
    "    \n",
    "    accuracy = np.sum(preds)/float(len(preds))\n",
    "    \n",
    "    if verbose:\n",
    "        print(\"Class : {} Images Tested : {} Accuracy : {}\".format(imgClass, numTestImages, accuracy))\n",
    "    \n",
    "    return accuracy\n",
    "    \n",
    "    \n",
    "    \n",
    "    "
   ]
  },
  {
   "cell_type": "code",
   "execution_count": 19,
   "metadata": {
    "scrolled": true
   },
   "outputs": [
    {
     "name": "stdout",
     "output_type": "stream",
     "text": [
      "Img # : 240 Predicted Label : 4\n",
      "Img # : 583 Predicted Label : 4\n",
      "Img # : 638 Predicted Label : 4\n",
      "Img # : 658 Predicted Label : 4\n",
      "Img # : 185 Predicted Label : 4\n",
      "Img # : 210 Predicted Label : 4\n",
      "Img # : 444 Predicted Label : 5\n",
      "Img # : 838 Predicted Label : 5\n",
      "Img # : 611 Predicted Label : 4\n",
      "Img # : 38 Predicted Label : 4\n",
      "Img # : 667 Predicted Label : 4\n",
      "Img # : 65 Predicted Label : 4\n",
      "Img # : 319 Predicted Label : 6\n",
      "Img # : 777 Predicted Label : 4\n",
      "Img # : 571 Predicted Label : 5\n",
      "Img # : 668 Predicted Label : 4\n",
      "Img # : 372 Predicted Label : 5\n",
      "Img # : 704 Predicted Label : 6\n",
      "Img # : 679 Predicted Label : 5\n",
      "Img # : 560 Predicted Label : 4\n",
      "Img # : 248 Predicted Label : 5\n",
      "Img # : 575 Predicted Label : 0\n",
      "Img # : 644 Predicted Label : 4\n",
      "Img # : 605 Predicted Label : 5\n",
      "Img # : 745 Predicted Label : 5\n",
      "Img # : 405 Predicted Label : 4\n",
      "Img # : 66 Predicted Label : 6\n",
      "Img # : 579 Predicted Label : 4\n",
      "Img # : 30 Predicted Label : 5\n",
      "Img # : 57 Predicted Label : 5\n",
      "Img # : 865 Predicted Label : 4\n",
      "Img # : 724 Predicted Label : 4\n",
      "Img # : 636 Predicted Label : 5\n",
      "Img # : 269 Predicted Label : 4\n",
      "Img # : 455 Predicted Label : 4\n",
      "Img # : 10 Predicted Label : 5\n",
      "Img # : 40 Predicted Label : 4\n",
      "Img # : 651 Predicted Label : 4\n",
      "Img # : 750 Predicted Label : 5\n",
      "Img # : 95 Predicted Label : 4\n",
      "Img # : 878 Predicted Label : 1\n",
      "Img # : 499 Predicted Label : 5\n",
      "Img # : 563 Predicted Label : 4\n",
      "Img # : 812 Predicted Label : 4\n",
      "Img # : 600 Predicted Label : 5\n",
      "Img # : 395 Predicted Label : 4\n",
      "Img # : 233 Predicted Label : 1\n",
      "Img # : 531 Predicted Label : 4\n",
      "Img # : 806 Predicted Label : 4\n",
      "Img # : 741 Predicted Label : 5\n",
      "Img # : 543 Predicted Label : 4\n",
      "Img # : 824 Predicted Label : 4\n",
      "Img # : 3 Predicted Label : 5\n",
      "Img # : 633 Predicted Label : 4\n",
      "Img # : 458 Predicted Label : 5\n",
      "Img # : 51 Predicted Label : 4\n",
      "Img # : 813 Predicted Label : 4\n",
      "Img # : 756 Predicted Label : 4\n",
      "Img # : 257 Predicted Label : 4\n",
      "Img # : 664 Predicted Label : 5\n",
      "Img # : 547 Predicted Label : 2\n",
      "Img # : 669 Predicted Label : 4\n",
      "Img # : 692 Predicted Label : 6\n",
      "Img # : 545 Predicted Label : 5\n",
      "Img # : 752 Predicted Label : 4\n",
      "Img # : 217 Predicted Label : 4\n",
      "Img # : 460 Predicted Label : 4\n",
      "Img # : 168 Predicted Label : 5\n",
      "Img # : 159 Predicted Label : 4\n",
      "Img # : 525 Predicted Label : 5\n",
      "Img # : 789 Predicted Label : 4\n",
      "Img # : 436 Predicted Label : 4\n",
      "Img # : 528 Predicted Label : 4\n",
      "Img # : 50 Predicted Label : 5\n",
      "Img # : 71 Predicted Label : 4\n",
      "Img # : 81 Predicted Label : 5\n",
      "Img # : 160 Predicted Label : 4\n",
      "Img # : 883 Predicted Label : 4\n",
      "Img # : 536 Predicted Label : 5\n",
      "Img # : 677 Predicted Label : 5\n",
      "Img # : 566 Predicted Label : 4\n",
      "Img # : 48 Predicted Label : 4\n",
      "Img # : 279 Predicted Label : 5\n",
      "Img # : 641 Predicted Label : 5\n",
      "Img # : 373 Predicted Label : 5\n",
      "Img # : 359 Predicted Label : 5\n",
      "Img # : 25 Predicted Label : 5\n",
      "Img # : 166 Predicted Label : 5\n",
      "Img # : 577 Predicted Label : 6\n",
      "Img # : 196 Predicted Label : 4\n",
      "Img # : 239 Predicted Label : 4\n",
      "Img # : 346 Predicted Label : 5\n",
      "Img # : 819 Predicted Label : 8\n",
      "Img # : 783 Predicted Label : 4\n",
      "Img # : 241 Predicted Label : 5\n",
      "Img # : 769 Predicted Label : 4\n",
      "Img # : 643 Predicted Label : 5\n",
      "Img # : 7 Predicted Label : 4\n",
      "Img # : 489 Predicted Label : 5\n",
      "Img # : 105 Predicted Label : 8\n",
      "Class : 5 Images Tested : 100 Accuracy : 0.36\n"
     ]
    }
   ],
   "source": [
    "x = testClass(5,model,100,100)"
   ]
  },
  {
   "cell_type": "code",
   "execution_count": 30,
   "metadata": {},
   "outputs": [],
   "source": [
    "def testModel(model, numTestImages = 100,supportImgCount = 100):\n",
    "    \n",
    "    correctPreds = 0.0\n",
    "    \n",
    "    for i in range(10):\n",
    "        acc = testClass(i,model,numTestImages,supportImgCount,False)\n",
    "        correctPreds += acc*numTestImages\n",
    "        print(\"Class {} : {}\".format(i, acc))\n",
    "        \n",
    "    totalAccuracy = correctPreds/(10*numTestImages)\n",
    "    \n",
    "    print(\"Total Accuracy : {}\".format(totalAccuracy))\n",
    "    \n",
    "    return totalAccuracy"
   ]
  },
  {
   "cell_type": "code",
   "execution_count": 29,
   "metadata": {},
   "outputs": [
    {
     "name": "stdout",
     "output_type": "stream",
     "text": [
      "Class 0 : 0.87\n",
      "Class 1 : 0.99\n",
      "Class 2 : 0.66\n",
      "Class 3 : 0.45\n",
      "Class 4 : 0.84\n",
      "Class 5 : 0.68\n",
      "Class 6 : 0.95\n",
      "Class 7 : 0.9\n",
      "Class 8 : 0.59\n",
      "Class 9 : 0.71\n",
      "Total Accuracy : 0.764\n"
     ]
    }
   ],
   "source": [
    "testModel(model)"
   ]
  },
  {
   "cell_type": "code",
   "execution_count": 46,
   "metadata": {},
   "outputs": [
    {
     "name": "stdout",
     "output_type": "stream",
     "text": [
      "Class 0 : 0.99\n",
      "Class 1 : 0.91\n",
      "Class 2 : 0.31\n",
      "Class 3 : 0.73\n",
      "Class 4 : 0.84\n",
      "Class 5 : 0.78\n",
      "Class 6 : 0.89\n",
      "Class 7 : 0.74\n",
      "Class 8 : 0.73\n",
      "Class 9 : 0.93\n",
      "Total Accuracy : 0.785\n",
      "Class 0 : 0.95\n",
      "Class 1 : 0.91\n",
      "Class 2 : 0.87\n",
      "Class 3 : 0.82\n",
      "Class 4 : 0.81\n",
      "Class 5 : 0.6\n",
      "Class 6 : 0.9\n",
      "Class 7 : 0.92\n",
      "Class 8 : 0.87\n",
      "Class 9 : 0.84\n",
      "Total Accuracy : 0.849\n",
      "Class 0 : 0.99\n",
      "Class 1 : 0.85\n",
      "Class 2 : 0.94\n",
      "Class 3 : 0.82\n",
      "Class 4 : 0.81\n",
      "Class 5 : 0.53\n",
      "Class 6 : 0.97\n",
      "Class 7 : 0.72\n",
      "Class 8 : 0.82\n",
      "Class 9 : 0.92\n",
      "Total Accuracy : 0.837\n",
      "Class 0 : 0.97\n",
      "Class 1 : 0.94\n",
      "Class 2 : 0.9\n",
      "Class 3 : 0.89\n",
      "Class 4 : 0.78\n",
      "Class 5 : 0.59\n",
      "Class 6 : 0.91\n",
      "Class 7 : 0.85\n",
      "Class 8 : 0.85\n",
      "Class 9 : 0.0\n",
      "Total Accuracy : 0.768\n",
      "Class 0 : 0.13\n",
      "Class 1 : 0.88\n",
      "Class 2 : 0.87\n",
      "Class 3 : 0.84\n",
      "Class 4 : 0.79\n",
      "Class 5 : 0.49\n",
      "Class 6 : 0.93\n",
      "Class 7 : 0.77\n",
      "Class 8 : 0.96\n",
      "Class 9 : 0.53\n",
      "Total Accuracy : 0.719\n",
      "0.7916\n"
     ]
    }
   ],
   "source": [
    "scores = []\n",
    "\n",
    "for i in range(5):\n",
    "    scores.append(testModel(model))\n",
    "    \n",
    "print(np.mean(scores))"
   ]
  },
  {
   "cell_type": "markdown",
   "metadata": {},
   "source": [
    "#### Loading Models"
   ]
  },
  {
   "cell_type": "code",
   "execution_count": 27,
   "metadata": {},
   "outputs": [],
   "source": [
    "class winit:\n",
    "    def __call__(self, shape, dtype=None):\n",
    "        return W_init(shape)\n",
    "    \n",
    "class binit:\n",
    "    def __call__(self, shape, dtype=None):\n",
    "        return b_init(shape)\n",
    "    \n",
    "\n",
    "from keras.utils import CustomObjectScope\n",
    "\n",
    "with CustomObjectScope({'W_init': winit}):\n",
    "    model = load_model(os.path.join(os.getcwd(),\"Models\",\"300images_0.98acc_model2_100support.hdf5\"),custom_objects={'contrastive_loss':contrastive_loss})"
   ]
  },
  {
   "cell_type": "code",
   "execution_count": 34,
   "metadata": {},
   "outputs": [
    {
     "name": "stdout",
     "output_type": "stream",
     "text": [
      "__________________________________________________________________________________________________\n",
      "Layer (type)                    Output Shape         Param #     Connected to                     \n",
      "==================================================================================================\n",
      "input_15 (InputLayer)           (None, 28, 28, 1)    0                                            \n",
      "__________________________________________________________________________________________________\n",
      "input_16 (InputLayer)           (None, 28, 28, 1)    0                                            \n",
      "__________________________________________________________________________________________________\n",
      "sequential_9 (Sequential)       (None, 256)          1587776     input_15[0][0]                   \n",
      "                                                                 input_16[0][0]                   \n",
      "__________________________________________________________________________________________________\n",
      "lambda_9 (Lambda)               (None, 1)            0           sequential_9[1][0]               \n",
      "                                                                 sequential_9[2][0]               \n",
      "==================================================================================================\n",
      "Total params: 1,587,776\n",
      "Trainable params: 1,587,264\n",
      "Non-trainable params: 512\n",
      "__________________________________________________________________________________________________\n"
     ]
    }
   ],
   "source": [
    "model.summary()"
   ]
  },
  {
   "cell_type": "code",
   "execution_count": 45,
   "metadata": {},
   "outputs": [],
   "source": [
    "model.save(os.path.join(os.getcwd(),\"Models\",\"1000images_0.986acc_model2_100support.hdf5\"))"
   ]
  },
  {
   "cell_type": "code",
   "execution_count": 224,
   "metadata": {},
   "outputs": [
    {
     "data": {
      "text/plain": [
       "<matplotlib.image.AxesImage at 0x7fb0d98ccc10>"
      ]
     },
     "execution_count": 224,
     "metadata": {},
     "output_type": "execute_result"
    },
    {
     "data": {
      "image/png": "[encoded data removed]",
      "text/plain": [
       "<Figure size 432x288 with 1 Axes>"
      ]
     },
     "metadata": {},
     "output_type": "display_data"
    }
   ],
   "source": [
    "plt.imshow(testDataMap[0][406])"
   ]
  },
  {
   "cell_type": "code",
   "execution_count": 228,
   "metadata": {},
   "outputs": [
    {
     "name": "stdout",
     "output_type": "stream",
     "text": [
      "Class 0 : 0.841515004635\n",
      "Class 1 : 0.412214666605\n",
      "Class 2 : 1.30040335655\n",
      "Class 3 : 1.80947625637\n",
      "Class 4 : 1.59980964661\n",
      "Class 5 : 1.67032849789\n",
      "Class 6 : 1.70729362965\n",
      "Class 7 : 1.0017260313\n",
      "Class 8 : 0.432438015938\n",
      "Class 9 : 0.738957881927\n"
     ]
    },
    {
     "data": {
      "text/plain": [
       "(1, 0.4122146666049957)"
      ]
     },
     "execution_count": 228,
     "metadata": {},
     "output_type": "execute_result"
    }
   ],
   "source": [
    "q = testDataMap[0][406]\n",
    "support = getSupportImgs(numImages=1)\n",
    "\n",
    "testImg(q, support, model,True)"
   ]
  },
  {
   "cell_type": "code",
   "execution_count": 229,
   "metadata": {},
   "outputs": [],
   "source": [
    "def predNPrint(img1,img2,model):\n",
    "    \n",
    "    pred = model.predict([img1.reshape(1,32,32,3), img2.reshape(1,32,32,3) ])\n",
    "    \n",
    "    print(pred)\n",
    "    \n",
    "    plt.subplot(121)\n",
    "    plt.imshow(img1)\n",
    "    \n",
    "    plt.subplot(122)\n",
    "    plt.imshow(img2)\n",
    "    \n",
    "    \n",
    "    "
   ]
  },
  {
   "cell_type": "code",
   "execution_count": 233,
   "metadata": {},
   "outputs": [
    {
     "name": "stdout",
     "output_type": "stream",
     "text": [
      "[[1.8094763]]\n"
     ]
    },
    {
     "data": {
      "image/png": "[encoded data removed]",
      "text/plain": [
       "<Figure size 432x288 with 2 Axes>"
      ]
     },
     "metadata": {},
     "output_type": "display_data"
    }
   ],
   "source": [
    "predNPrint(q,support[3][0],model)"
   ]
  },
  {
   "cell_type": "code",
   "execution_count": null,
   "metadata": {},
   "outputs": [],
   "source": []
  },
  {
   "cell_type": "code",
   "execution_count": null,
   "metadata": {},
   "outputs": [],
   "source": []
  },
  {
   "cell_type": "code",
   "execution_count": null,
   "metadata": {},
   "outputs": [],
   "source": []
  },
  {
   "cell_type": "code",
   "execution_count": null,
   "metadata": {},
   "outputs": [],
   "source": []
  },
  {
   "cell_type": "code",
   "execution_count": null,
   "metadata": {},
   "outputs": [],
   "source": []
  },
  {
   "cell_type": "code",
   "execution_count": null,
   "metadata": {},
   "outputs": [],
   "source": []
  },
  {
   "cell_type": "code",
   "execution_count": null,
   "metadata": {},
   "outputs": [],
   "source": []
  },
  {
   "cell_type": "code",
   "execution_count": null,
   "metadata": {},
   "outputs": [],
   "source": []
  }
 ],
 "metadata": {
  "kernelspec": {
   "display_name": "Python 2",
   "language": "python",
   "name": "python2"
  },
  "language_info": {
   "codemirror_mode": {
    "name": "ipython",
    "version": 2
   },
   "file_extension": ".py",
   "mimetype": "text/x-python",
   "name": "python",
   "nbconvert_exporter": "python",
   "pygments_lexer": "ipython2",
   "version": "2.7.12"
  }
 },
 "nbformat": 4,
 "nbformat_minor": 2
}
